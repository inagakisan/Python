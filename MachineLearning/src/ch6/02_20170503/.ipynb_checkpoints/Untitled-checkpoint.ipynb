{
 "cells": [
  {
   "cell_type": "code",
   "execution_count": 1,
   "metadata": {
    "collapsed": true
   },
   "outputs": [],
   "source": [
    "from gensim.models import word2vec\n",
    "model = word2vec.Word2Vec.load('kokoro.model')"
   ]
  },
  {
   "cell_type": "code",
   "execution_count": 4,
   "metadata": {
    "collapsed": false
   },
   "outputs": [
    {
     "data": {
      "text/plain": [
       "[('若葉', 0.9645242094993591),\n",
       " ('黒い', 0.9599086046218872),\n",
       " ('射す', 0.9589074850082397),\n",
       " ('白い', 0.9549099206924438),\n",
       " ('時計', 0.9533172249794006),\n",
       " ('隅', 0.9499199986457825),\n",
       " ('波', 0.9486464262008667),\n",
       " ('水', 0.9484056234359741),\n",
       " ('暗い', 0.9472392201423645),\n",
       " ('行李', 0.9470828175544739)]"
      ]
     },
     "execution_count": 4,
     "metadata": {},
     "output_type": "execute_result"
    }
   ],
   "source": [
    "model.most_similar(positive=['海'])"
   ]
  },
  {
   "cell_type": "code",
   "execution_count": 5,
   "metadata": {
    "collapsed": false
   },
   "outputs": [
    {
     "data": {
      "text/plain": [
       "[('悪人', 0.9032071828842163),\n",
       " ('違い', 0.8989172577857971),\n",
       " ('己', 0.8904728293418884),\n",
       " ('世間', 0.8729683756828308),\n",
       " ('善人', 0.8703253269195557),\n",
       " ('信用', 0.8702020049095154),\n",
       " ('世の中', 0.8693084716796875),\n",
       " ('間際', 0.8644084930419922),\n",
       " ('淋しい', 0.8578113913536072),\n",
       " ('馬鹿', 0.8552614450454712)]"
      ]
     },
     "execution_count": 5,
     "metadata": {},
     "output_type": "execute_result"
    }
   ],
   "source": [
    "model.most_similar(positive=['人間'])"
   ]
  },
  {
   "cell_type": "code",
   "execution_count": null,
   "metadata": {
    "collapsed": true
   },
   "outputs": [],
   "source": []
  }
 ],
 "metadata": {
  "kernelspec": {
   "display_name": "Python 3",
   "language": "python",
   "name": "python3"
  },
  "language_info": {
   "codemirror_mode": {
    "name": "ipython",
    "version": 3
   },
   "file_extension": ".py",
   "mimetype": "text/x-python",
   "name": "python",
   "nbconvert_exporter": "python",
   "pygments_lexer": "ipython3",
   "version": "3.5.2"
  }
 },
 "nbformat": 4,
 "nbformat_minor": 1
}
